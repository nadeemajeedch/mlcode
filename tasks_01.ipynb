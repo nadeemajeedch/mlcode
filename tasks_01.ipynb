{
 "cells": [
  {
   "cell_type": "code",
   "execution_count": 5,
   "metadata": {},
   "outputs": [
    {
     "name": "stdout",
     "output_type": "stream",
     "text": [
      "5 is Prime\n"
     ]
    }
   ],
   "source": [
    "# Prime number \n",
    "\n",
    "num=int(input(\"Enter a Number: \"))\n",
    "if(num==2 or num==3 or num==5 or num==7):\n",
    "    print(num,\"is Prime\")\n",
    "elif(num%2!=0 and num%3!=0 and num%5!=0 and num%7!=0):\n",
    "    print(num,\"is Prime\")\n",
    "else:\n",
    "    print(num,\"is Not Prime\")\n",
    "\n"
   ]
  },
  {
   "cell_type": "markdown",
   "metadata": {},
   "source": []
  },
  {
   "cell_type": "code",
   "execution_count": null,
   "metadata": {},
   "outputs": [],
   "source": []
  }
 ],
 "metadata": {
  "interpreter": {
   "hash": "38fdc3936c88555017f883bf6d97329a59f69bb2245dbcbacf54e5183c5c9e59"
  },
  "kernelspec": {
   "display_name": "Python 3.9.7 ('base')",
   "language": "python",
   "name": "python3"
  },
  "language_info": {
   "codemirror_mode": {
    "name": "ipython",
    "version": 3
   },
   "file_extension": ".py",
   "mimetype": "text/x-python",
   "name": "python",
   "nbconvert_exporter": "python",
   "pygments_lexer": "ipython3",
   "version": "3.9.7"
  },
  "orig_nbformat": 4
 },
 "nbformat": 4,
 "nbformat_minor": 2
}
